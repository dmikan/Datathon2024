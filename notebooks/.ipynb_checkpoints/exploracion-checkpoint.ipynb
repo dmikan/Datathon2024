{
 "cells": [
  {
   "cell_type": "markdown",
   "metadata": {},
   "source": [
    "## Exploración de datos\n",
    "\n",
    "*Nota: para ejecutar este notebook descargue el repositorio del proyecto en el siguiente enlace.*"
   ]
  },
  {
   "cell_type": "markdown",
   "metadata": {},
   "source": [
    "<div style=\"background-color: #f0f8ff; padding: 10px;\">\n",
    "\n",
    "Ya diste el primer paso en la preparación de los datos para hacer predicción numérica en SageMaker, con la creación de columnas dummy, esto se refleja en los esquemas de metadatos antes y después del one hot encoding respectivamente:\n",
    "</div>"
   ]
  },
  {
   "cell_type": "markdown",
   "metadata": {
    "id": "yY_s4YdYdU6s"
   },
   "source": [
    "Esquema inicial\n",
    "\n",
    "- nomenclatura y abreviaciones\n",
    "\n",
    "- funciones y librerias (descripción de lo que hacen las funciones)\n",
    "\n",
    "- carga de datos de zona landing (raw)\n",
    "\n",
    "- proceso de exploración (incluir las hallazgos)\n",
    "\n",
    "- proceso de limpieza (esquemas de metadatos)\n",
    "\n",
    "- análisis y visualización de datos\n",
    "\n",
    "- recomendaciones.\n",
    "\n",
    "\n",
    "\n",
    "\n",
    "esquematizar el mismo tamaño para las gráficas (8,6)\n",
    "\n"
   ]
  },
  {
   "cell_type": "markdown",
   "metadata": {
    "id": "oe1HO7IYk4F7"
   },
   "source": [
    "## Zona Landing"
   ]
  },
  {
   "cell_type": "code",
   "execution_count": 1,
   "metadata": {
    "id": "f1ouWtszdLfH"
   },
   "outputs": [],
   "source": [
    "!pip install gdown"
   ]
  },
  {
   "cell_type": "code",
   "execution_count": null,
   "metadata": {
    "id": "6mYdC1Bv3CHk"
   },
   "outputs": [],
   "source": [
    "# 16De-wd3ViwUafT00xmuDobrUDZYy0J12"
   ]
  },
  {
   "cell_type": "markdown",
   "metadata": {
    "id": "SB4LfZhXk_Dl"
   },
   "source": [
    "## Zona Universal"
   ]
  },
  {
   "cell_type": "code",
   "execution_count": 2,
   "metadata": {
    "id": "v5PM8ADhlDWf"
   },
   "outputs": [],
   "source": [
    "#"
   ]
  }
 ],
 "metadata": {
  "colab": {
   "provenance": []
  },
  "kernelspec": {
   "display_name": "Python 3 (ipykernel)",
   "language": "python",
   "name": "python3"
  },
  "language_info": {
   "codemirror_mode": {
    "name": "ipython",
    "version": 3
   },
   "file_extension": ".py",
   "mimetype": "text/x-python",
   "name": "python",
   "nbconvert_exporter": "python",
   "pygments_lexer": "ipython3",
   "version": "3.9.19"
  }
 },
 "nbformat": 4,
 "nbformat_minor": 4
}
