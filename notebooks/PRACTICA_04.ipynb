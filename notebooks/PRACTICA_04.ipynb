{
 "cells": [
  {
   "cell_type": "markdown",
   "metadata": {},
   "source": [
    "## Preparación de datos para predicción numérica en SageMaker\n",
    "\n",
    "*Nota: esta práctica debe ser ejecutada en un Jupyter Notebook para PySpark sobre el servicio de Athena en AWS.*"
   ]
  },
  {
   "cell_type": "markdown",
   "metadata": {},
   "source": [
    "<div style=\"background-color: #f0f8ff; padding: 10px;\">\n",
    "\n",
    "Ya diste el primer paso en la preparación de los datos para hacer predicción numérica en SageMaker, con la creación de columnas dummy, esto se refleja en los esquemas de metadatos antes y después del one hot encoding respectivamente:\n",
    "</div>"
   ]
  },
  {
   "cell_type": "markdown",
   "metadata": {},
   "source": [
    "<div style=\"display: flex; justify-content: space-between;background-color: #f0f8ff; padding: 10px;\"> \n",
    "  <div style=\"width: 48%;\">\n",
    "    <h4>Metadatos antes de one hot encoding</h4>\n",
    "    <pre style=\"background-color: #f0f8ff\">\n",
    "root\n",
    " ├── age: integer (nullable = true)\n",
    " ├── sex: string (nullable = true)\n",
    " ├── bmi: double (nullable = true)\n",
    " ├── children: integer (nullable = true)\n",
    " ├── smoker: string (nullable = true)\n",
    " ├── region: string (nullable = true)\n",
    " └── charges: double (nullable = true)\n",
    "    </pre>\n",
    "  </div>\n",
    "  \n",
    "  <div style=\"width: 48%;\">\n",
    "    <h4>Metadatos después de one hot encoding</h4>\n",
    "    <pre style=\"background-color: #f0f8ff\">\n",
    "root\n",
    " ├── age: integer (nullable = false)\n",
    " ├── bmi: double (nullable = false)\n",
    " ├── children: integer (nullable = false)\n",
    " ├── charges: double (nullable = false)\n",
    " ├── sex_female: byte (nullable = false)\n",
    " ├── sex_male: byte (nullable = false)\n",
    " ├── smoker_no: byte (nullable = false)\n",
    " ├── smoker_yes: byte (nullable = false)\n",
    " ├── region_northeast: byte (nullable = false)\n",
    " ├── region_northwest: byte (nullable = false)\n",
    " ├── region_southeast: byte (nullable = false)\n",
    " └── region_southwest: byte (nullable = false)\n",
    "    </pre>\n",
    "  </div>\n",
    "</div>"
   ]
  },
  {
   "cell_type": "markdown",
   "metadata": {},
   "source": [
    "<div style=\"background-color: #f0f8ff; padding: 10px;\">\n",
    "\n",
    "No obstante, también es necesario colocar la variable objetivo al principio del DataFrame. SageMaker por la forma en como procesa los datos, toma el primer campo como la variable objetivo. También hay que dividir los datos en conjuntos de entrenamiento y validación.\n",
    "</div>"
   ]
  },
  {
   "cell_type": "markdown",
   "metadata": {},
   "source": [
    "### Librerías"
   ]
  },
  {
   "cell_type": "code",
   "execution_count": 1,
   "metadata": {},
   "outputs": [
    {
     "name": "stdout",
     "output_type": "stream",
     "text": [
      "Calculation started (calculation_id=eec8a212-8305-2bfb-e789-84e3e5df675c) in (session=a6c8a210-c3a9-418d-a131-318d3464bdcc). Checking calculation status...\n"
     ]
    },
    {
     "data": {
      "application/vnd.jupyter.widget-view+json": {
       "model_id": "a79324b627a345b6978f2241fd5d7428",
       "version_major": 2,
       "version_minor": 0
      },
      "text/plain": [
       "Progress:   0%|          |elapsed time = 00:00s"
      ]
     },
     "metadata": {},
     "output_type": "display_data"
    },
    {
     "name": "stdout",
     "output_type": "stream",
     "text": [
      "Calculation completed.\n"
     ]
    }
   ],
   "source": [
    "# Utilitarios para modificar el esquema de metadatos\n",
    "from pyspark.sql.types import StructType, StructField\n",
    "\n",
    "#Importamos los tipos de datos que definiremos para cada campo\n",
    "from pyspark.sql.types import StringType, IntegerType, DoubleType\n",
    "\n",
    "#Importamos la librerIa de pandas compatible con entornos de clUster de Big Data\n",
    "import pyspark.pandas as pd\n",
    "\n",
    "#Por defecto un dataframe Pandas muestra 1000 registros\n",
    "#Vamos a indicarle que solo muestre 20 para que no se sature el notebook\n",
    "pd.set_option(\"display.max_rows\", 20)\n",
    "\n",
    "#Libreria para manipular los servicios de AWS\n",
    "import boto3"
   ]
  },
  {
   "cell_type": "markdown",
   "metadata": {},
   "source": [
    "### Configuración para lectura de archivos "
   ]
  },
  {
   "cell_type": "code",
   "execution_count": 2,
   "metadata": {},
   "outputs": [
    {
     "name": "stdout",
     "output_type": "stream",
     "text": [
      "Calculation started (calculation_id=78c8a212-d221-a411-0a97-d606bec8147f) in (session=a6c8a210-c3a9-418d-a131-318d3464bdcc). Checking calculation status...\n"
     ]
    },
    {
     "data": {
      "application/vnd.jupyter.widget-view+json": {
       "model_id": "79f9419ec45647a8a1d593f032528382",
       "version_major": 2,
       "version_minor": 0
      },
      "text/plain": [
       "Progress:   0%|          |elapsed time = 00:00s"
      ]
     },
     "metadata": {},
     "output_type": "display_data"
    },
    {
     "name": "stdout",
     "output_type": "stream",
     "text": [
      "Calculation completed.\n"
     ]
    }
   ],
   "source": [
    "#Nombre del bucket desde donde se lee el archivo\n",
    "#IMPORTANTE: REEMPLAZAR \"XXX\" POR TUS INICIALES\n",
    "bucket = \"datasets-ibd-mjc\""
   ]
  },
  {
   "cell_type": "code",
   "execution_count": 3,
   "metadata": {},
   "outputs": [
    {
     "name": "stdout",
     "output_type": "stream",
     "text": [
      "Calculation started (calculation_id=26c8a212-fede-1c2a-7857-fd0d731b2c5e) in (session=a6c8a210-c3a9-418d-a131-318d3464bdcc). Checking calculation status...\n"
     ]
    },
    {
     "data": {
      "application/vnd.jupyter.widget-view+json": {
       "model_id": "affe18d4df5f4b0a84a2d420d85732df",
       "version_major": 2,
       "version_minor": 0
      },
      "text/plain": [
       "Progress:   0%|          |elapsed time = 00:00s"
      ]
     },
     "metadata": {},
     "output_type": "display_data"
    },
    {
     "name": "stdout",
     "output_type": "stream",
     "text": [
      "Calculation completed.\n"
     ]
    }
   ],
   "source": [
    "#Ruta dentro del archivo dentro del bucket\n",
    "rutaDeArchivo = \"data/insurance\""
   ]
  },
  {
   "cell_type": "code",
   "execution_count": 4,
   "metadata": {},
   "outputs": [
    {
     "name": "stdout",
     "output_type": "stream",
     "text": [
      "Calculation started (calculation_id=80c8a213-b93d-383f-7bf7-a16aa4d64b69) in (session=a6c8a210-c3a9-418d-a131-318d3464bdcc). Checking calculation status...\n"
     ]
    },
    {
     "data": {
      "application/vnd.jupyter.widget-view+json": {
       "model_id": "9c5afe1c101046bf9e727075708f2595",
       "version_major": 2,
       "version_minor": 0
      },
      "text/plain": [
       "Progress:   0%|          |elapsed time = 00:00s"
      ]
     },
     "metadata": {},
     "output_type": "display_data"
    },
    {
     "name": "stdout",
     "output_type": "stream",
     "text": [
      "Calculation completed.\n"
     ]
    }
   ],
   "source": [
    "#Definicion del esquema de metadatos\n",
    "schema = StructType(\n",
    "    [\n",
    "        StructField(\"age\", DoubleType(), True),\n",
    "        StructField(\"sex\", StringType(), True),\n",
    "        StructField(\"bmi\", DoubleType(), True),\n",
    "        StructField(\"children\", DoubleType(), True),\n",
    "        StructField(\"smoker\", StringType(), True),\n",
    "        StructField(\"region\", StringType(), True),\n",
    "        StructField(\"charges\", DoubleType(), True)\n",
    "    ]\n",
    ")"
   ]
  },
  {
   "cell_type": "markdown",
   "metadata": {},
   "source": [
    "<div style=\"background-color: #f0f8ff; padding: 10px;\">\n",
    "\n",
    "Observa que en el esquema de metadatos, ha sido definido para que la edad `\"age\"` y la cantidad de hijos `\"children\"` sean de tipo decimal con `DoubleType()`. Desde el punto de vista de optimización a nivel de memoria RAM, SageMaker considera todo número como decimal, de modo que no tiene sentido definir los números como enteros, incluso aunque a nivel del negocio, no tenga sentido que estos números no sean decimales, de cualquier forma SageMaker los va a cargar como decimales.\n",
    "</div>"
   ]
  },
  {
   "cell_type": "markdown",
   "metadata": {},
   "source": [
    "### Rutas al dataset"
   ]
  },
  {
   "cell_type": "markdown",
   "metadata": {},
   "source": [
    "<div style=\"background-color: #f0f8ff; padding: 10px;\">\n",
    "\n",
    "Define la ruta al bucket en donde se encuentra el archivo `insurance.csv` a partir de las variables definidas para lectura. Luego crea 3 directorios para almacenar los datos procesados, y los datos particionados en entrenamiento y validación respectivamente.\n",
    "</div>"
   ]
  },
  {
   "cell_type": "code",
   "execution_count": 6,
   "metadata": {},
   "outputs": [
    {
     "name": "stdout",
     "output_type": "stream",
     "text": [
      "Calculation started (calculation_id=04c8a215-601b-6066-05a9-31db2c6bd2be) in (session=a6c8a210-c3a9-418d-a131-318d3464bdcc). Checking calculation status...\n"
     ]
    },
    {
     "data": {
      "application/vnd.jupyter.widget-view+json": {
       "model_id": "4f30cd2a04f24464ae017dea30ea4cbc",
       "version_major": 2,
       "version_minor": 0
      },
      "text/plain": [
       "Progress:   0%|          |elapsed time = 00:00s"
      ]
     },
     "metadata": {},
     "output_type": "display_data"
    },
    {
     "name": "stdout",
     "output_type": "stream",
     "text": [
      "Calculation completed.\n",
      "s3://datasets-ibd-mjc/data/insurance/\n",
      "\n"
     ]
    }
   ],
   "source": [
    "#Definimos la ruta desde donde se lee el archivo de datos que se preparara\n",
    "#En Python 3, podemos anteponer \"f\" en una cadena para reemplazar valores\n",
    "rutaArchivoRaw = f\"s3://{bucket}/{rutaDeArchivo}/\"\n",
    "\n",
    "#Verificamos\n",
    "print(rutaArchivoRaw)"
   ]
  },
  {
   "cell_type": "markdown",
   "metadata": {},
   "source": [
    "<div style=\"background-color: #f0f8ff; padding: 10px;\">\n",
    "\n",
    "Define la ruta para almacenara el 100% de los registros del dataset preparado.\n",
    "</div>"
   ]
  },
  {
   "cell_type": "code",
   "execution_count": 7,
   "metadata": {},
   "outputs": [
    {
     "name": "stdout",
     "output_type": "stream",
     "text": [
      "Calculation started (calculation_id=22c8a216-041f-25aa-88e3-20850b6001d8) in (session=a6c8a210-c3a9-418d-a131-318d3464bdcc). Checking calculation status...\n"
     ]
    },
    {
     "data": {
      "application/vnd.jupyter.widget-view+json": {
       "model_id": "98e1c3e648b640d8804ff749abd129a4",
       "version_major": 2,
       "version_minor": 0
      },
      "text/plain": [
       "Progress:   0%|          |elapsed time = 00:00s"
      ]
     },
     "metadata": {},
     "output_type": "display_data"
    },
    {
     "name": "stdout",
     "output_type": "stream",
     "text": [
      "Calculation completed.\n",
      "s3://datasets-ibd-mjc/data/insurance_dataset/\n",
      "\n"
     ]
    }
   ],
   "source": [
    "#Definimos la ruta en donde se almacenara el 100% de los registros del dataset preparado\n",
    "rutaArchivoDataset = f\"s3://{bucket}/{rutaDeArchivo}_dataset/\"\n",
    "\n",
    "#Verificamos\n",
    "print(rutaArchivoDataset)"
   ]
  },
  {
   "cell_type": "markdown",
   "metadata": {},
   "source": [
    "<div style=\"background-color: #f0f8ff; padding: 10px;\">\n",
    "\n",
    "Define la ruta para almacenar los registros del dataset de entrenamiento.\n",
    "</div>"
   ]
  },
  {
   "cell_type": "code",
   "execution_count": 8,
   "metadata": {},
   "outputs": [
    {
     "name": "stdout",
     "output_type": "stream",
     "text": [
      "Calculation started (calculation_id=9cc8a216-15b7-9e96-c462-bcb014e8503e) in (session=a6c8a210-c3a9-418d-a131-318d3464bdcc). Checking calculation status...\n"
     ]
    },
    {
     "data": {
      "application/vnd.jupyter.widget-view+json": {
       "model_id": "792720725f474009b6140c885349c83e",
       "version_major": 2,
       "version_minor": 0
      },
      "text/plain": [
       "Progress:   0%|          |elapsed time = 00:00s"
      ]
     },
     "metadata": {},
     "output_type": "display_data"
    },
    {
     "name": "stdout",
     "output_type": "stream",
     "text": [
      "Calculation completed.\n",
      "s3://datasets-ibd-mjc/data/insurance_train/\n",
      "\n"
     ]
    }
   ],
   "source": [
    "#Definimos la ruta en donde se almacenara los registros del dataset de entrenamiento\n",
    "rutaArchivoDatasetTrain = f\"s3://{bucket}/{rutaDeArchivo}_train/\"\n",
    "\n",
    "#Verificamos\n",
    "print(rutaArchivoDatasetTrain)"
   ]
  },
  {
   "cell_type": "markdown",
   "metadata": {},
   "source": [
    "<div style=\"background-color: #f0f8ff; padding: 10px;\">\n",
    "\n",
    "Define la ruta para almacenar los registros del dataset de validación.\n",
    "</div>"
   ]
  },
  {
   "cell_type": "code",
   "execution_count": 9,
   "metadata": {},
   "outputs": [
    {
     "name": "stdout",
     "output_type": "stream",
     "text": [
      "Calculation started (calculation_id=5ec8a216-258b-6aea-51e3-873ef4ae89cd) in (session=a6c8a210-c3a9-418d-a131-318d3464bdcc). Checking calculation status...\n"
     ]
    },
    {
     "data": {
      "application/vnd.jupyter.widget-view+json": {
       "model_id": "6ab63e5fc5c04e5fbdebe84d8a80b0a2",
       "version_major": 2,
       "version_minor": 0
      },
      "text/plain": [
       "Progress:   0%|          |elapsed time = 00:00s"
      ]
     },
     "metadata": {},
     "output_type": "display_data"
    },
    {
     "name": "stdout",
     "output_type": "stream",
     "text": [
      "Calculation completed.\n",
      "s3://datasets-ibd-mjc/data/insurance_test/\n",
      "\n"
     ]
    }
   ],
   "source": [
    "#Definimos la ruta en donde se almacenara los registros del dataset de validacion\n",
    "rutaArchivoDatasetTest = f\"s3://{bucket}/{rutaDeArchivo}_test/\"\n",
    "\n",
    "#Verificamos\n",
    "print(rutaArchivoDatasetTest)"
   ]
  },
  {
   "cell_type": "markdown",
   "metadata": {},
   "source": [
    "<div style=\"background-color: #f0f8ff; padding: 10px;\">\n",
    "\n",
    "Lee los datos en crudo en la ruta definida por la variable `rutaArchivoRaw` con las configuraciones de encabezado, delimitador, encoding y esquema. Visualiza que es esquela de metadatos está correctamente configurado y visualiza los primeros 20 registros.\n",
    "</div>"
   ]
  },
  {
   "cell_type": "markdown",
   "metadata": {},
   "source": [
    "### Lectura de Datos"
   ]
  },
  {
   "cell_type": "code",
   "execution_count": 10,
   "metadata": {},
   "outputs": [
    {
     "name": "stdout",
     "output_type": "stream",
     "text": [
      "Calculation started (calculation_id=aec8a216-82d9-4e5c-48f5-a759f9f0af8d) in (session=a6c8a210-c3a9-418d-a131-318d3464bdcc). Checking calculation status...\n"
     ]
    },
    {
     "data": {
      "application/vnd.jupyter.widget-view+json": {
       "model_id": "6cb5a206fc604742b3d5dd44aea6bf14",
       "version_major": 2,
       "version_minor": 0
      },
      "text/plain": [
       "Progress:   0%|          |elapsed time = 00:00s"
      ]
     },
     "metadata": {},
     "output_type": "display_data"
    },
    {
     "name": "stdout",
     "output_type": "stream",
     "text": [
      "Calculation completed.\n",
      "root\n",
      " |-- age: double (nullable = true)\n",
      " |-- sex: string (nullable = true)\n",
      " |-- bmi: double (nullable = true)\n",
      " |-- children: double (nullable = true)\n",
      " |-- smoker: string (nullable = true)\n",
      " |-- region: string (nullable = true)\n",
      " |-- charges: double (nullable = true)\n",
      "\n",
      "+----+------+------+--------+------+---------+-----------+\n",
      "| age|   sex|   bmi|children|smoker|   region|    charges|\n",
      "+----+------+------+--------+------+---------+-----------+\n",
      "|19.0|female|  27.9|     0.0|   yes|southwest|  16884.924|\n",
      "|18.0|  male| 33.77|     1.0|    no|southeast|  1725.5523|\n",
      "|28.0|  male|  33.0|     3.0|    no|southeast|   4449.462|\n",
      "|33.0|  male|22.705|     0.0|    no|northwest|21984.47061|\n",
      "|32.0|  male| 28.88|     0.0|    no|northwest|  3866.8552|\n",
      "|31.0|female| 25.74|     0.0|    no|southeast|  3756.6216|\n",
      "|46.0|female| 33.44|     1.0|    no|southeast|  8240.5896|\n",
      "|37.0|female| 27.74|     3.0|    no|northwest|  7281.5056|\n",
      "|37.0|  male| 29.83|     2.0|    no|northeast|  6406.4107|\n",
      "|60.0|female| 25.84|     0.0|    no|northwest|28923.13692|\n",
      "|25.0|  male| 26.22|     0.0|    no|northeast|  2721.3208|\n",
      "|62.0|female| 26.29|     0.0|   yes|southeast| 27808.7251|\n",
      "|23.0|  male|  34.4|     0.0|    no|southwest|   1826.843|\n",
      "|56.0|female| 39.82|     0.0|    no|southeast| 11090.7178|\n",
      "|27.0|  male| 42.13|     0.0|   yes|southeast| 39611.7577|\n",
      "|19.0|  male|  24.6|     1.0|    no|southwest|   1837.237|\n",
      "|52.0|female| 30.78|     1.0|    no|northeast| 10797.3362|\n",
      "|23.0|  male|23.845|     0.0|    no|northeast| 2395.17155|\n",
      "|56.0|  male|  40.3|     0.0|    no|southwest|  10602.385|\n",
      "|30.0|  male|  35.3|     0.0|   yes|southwest|  36837.467|\n",
      "+----+------+------+--------+------+---------+-----------+\n",
      "only showing top 20 rows\n",
      "\n"
     ]
    }
   ],
   "source": [
    "#Leemos los datos\n",
    "dfRaw = spark.read.format(\"csv\").option(\"header\", \"true\").option(\"delimiter\", \",\").option(\"encoding\", \"ISO-8859-1\").schema(schema).load(rutaArchivoRaw)\n",
    "\n",
    "#Vemos el esquema de metadatos\n",
    "dfRaw.printSchema()\n",
    "\n",
    "#Verificamos\n",
    "dfRaw.show()"
   ]
  },
  {
   "cell_type": "markdown",
   "metadata": {},
   "source": [
    "### Conversion de Dataframe Spark a Pandas"
   ]
  },
  {
   "cell_type": "markdown",
   "metadata": {},
   "source": [
    "<div style=\"background-color: #f0f8ff; padding: 10px;\">\n",
    "\n",
    "Convierte de DataFrame Spark a DataFrame Pandas y verifica que se ha transformado correctamente.\n",
    "</div>"
   ]
  },
  {
   "cell_type": "code",
   "execution_count": 11,
   "metadata": {},
   "outputs": [
    {
     "name": "stdout",
     "output_type": "stream",
     "text": [
      "Calculation started (calculation_id=98c8a216-c3ab-74f6-1cbe-b0a937fa0446) in (session=a6c8a210-c3a9-418d-a131-318d3464bdcc). Checking calculation status...\n"
     ]
    },
    {
     "data": {
      "application/vnd.jupyter.widget-view+json": {
       "model_id": "decbc831fee1447e9dce9661e0f881da",
       "version_major": 2,
       "version_minor": 0
      },
      "text/plain": [
       "Progress:   0%|          |elapsed time = 00:00s"
      ]
     },
     "metadata": {},
     "output_type": "display_data"
    },
    {
     "name": "stdout",
     "output_type": "stream",
     "text": [
      "Calculation completed.\n",
      "     age     sex     bmi  children smoker     region      charges\n",
      "0   19.0  female  27.900       0.0    yes  southwest  16884.92400\n",
      "1   18.0    male  33.770       1.0     no  southeast   1725.55230\n",
      "2   28.0    male  33.000       3.0     no  southeast   4449.46200\n",
      "3   33.0    male  22.705       0.0     no  northwest  21984.47061\n",
      "4   32.0    male  28.880       0.0     no  northwest   3866.85520\n",
      "5   31.0  female  25.740       0.0     no  southeast   3756.62160\n",
      "6   46.0  female  33.440       1.0     no  southeast   8240.58960\n",
      "7   37.0  female  27.740       3.0     no  northwest   7281.50560\n",
      "8   37.0    male  29.830       2.0     no  northeast   6406.41070\n",
      "9   60.0  female  25.840       0.0     no  northwest  28923.13692\n",
      "10  25.0    male  26.220       0.0     no  northeast   2721.32080\n",
      "11  62.0  female  26.290       0.0    yes  southeast  27808.72510\n",
      "12  23.0    male  34.400       0.0     no  southwest   1826.84300\n",
      "13  56.0  female  39.820       0.0     no  southeast  11090.71780\n",
      "14  27.0    male  42.130       0.0    yes  southeast  39611.75770\n",
      "15  19.0    male  24.600       1.0     no  southwest   1837.23700\n",
      "16  52.0  female  30.780       1.0     no  northeast  10797.33620\n",
      "17  23.0    male  23.845       0.0     no  northeast   2395.17155\n",
      "18  56.0    male  40.300       0.0     no  southwest  10602.38500\n",
      "19  30.0    male  35.300       0.0    yes  southwest  36837.46700\n",
      "\n",
      "[Showing only the first 20 rows x 7 columns]\n",
      "\n"
     ]
    }
   ],
   "source": [
    "#Convertimos el dataframe SPARK a un dataframe PANDAS\n",
    "dfpRaw = pd.from_pandas(dfRaw.toPandas())\n",
    "\n",
    "#Verificamos\n",
    "dfpRaw"
   ]
  },
  {
   "cell_type": "markdown",
   "metadata": {},
   "source": [
    "### Creacion de columnas Dummy"
   ]
  },
  {
   "cell_type": "markdown",
   "metadata": {},
   "source": [
    "<div style=\"background-color: #f0f8ff; padding: 10px;\">\n",
    "\n",
    "Usa el utilitario `get_dummies` de Pandas para la creación de las columnas dummy. Verifica que se han creado de forma correcta.\n",
    "</div>"
   ]
  },
  {
   "cell_type": "code",
   "execution_count": 12,
   "metadata": {},
   "outputs": [
    {
     "name": "stdout",
     "output_type": "stream",
     "text": [
      "Calculation started (calculation_id=54c8a216-e048-97bd-1bad-c820a4bb25a9) in (session=a6c8a210-c3a9-418d-a131-318d3464bdcc). Checking calculation status...\n"
     ]
    },
    {
     "data": {
      "application/vnd.jupyter.widget-view+json": {
       "model_id": "faff7225e16143198a28c031fcd72ed8",
       "version_major": 2,
       "version_minor": 0
      },
      "text/plain": [
       "Progress:   0%|          |elapsed time = 00:00s"
      ]
     },
     "metadata": {},
     "output_type": "display_data"
    },
    {
     "name": "stdout",
     "output_type": "stream",
     "text": [
      "Calculation completed.\n",
      "     age     bmi  children      charges  sex_female  sex_male  region_northeast  region_northwest  region_southeast  region_southwest  smoker_no  smoker_yes\n",
      "0   19.0  27.900       0.0  16884.92400           1         0                 0                 0                 0                 1          0           1\n",
      "1   18.0  33.770       1.0   1725.55230           0         1                 0                 0                 1                 0          1           0\n",
      "2   28.0  33.000       3.0   4449.46200           0         1                 0                 0                 1                 0          1           0\n",
      "3   33.0  22.705       0.0  21984.47061           0         1                 0                 1                 0                 0          1           0\n",
      "4   32.0  28.880       0.0   3866.85520           0         1                 0                 1                 0                 0          1           0\n",
      "5   31.0  25.740       0.0   3756.62160           1         0                 0                 0                 1                 0          1           0\n",
      "6   46.0  33.440       1.0   8240.58960           1         0                 0                 0                 1                 0          1           0\n",
      "7   37.0  27.740       3.0   7281.50560           1         0                 0                 1                 0                 0          1           0\n",
      "8   37.0  29.830       2.0   6406.41070           0         1                 1                 0                 0                 0          1           0\n",
      "9   60.0  25.840       0.0  28923.13692           1         0                 0                 1                 0                 0          1           0\n",
      "10  25.0  26.220       0.0   2721.32080           0         1                 1                 0                 0                 0          1           0\n",
      "11  62.0  26.290       0.0  27808.72510           1         0                 0                 0                 1                 0          0           1\n",
      "12  23.0  34.400       0.0   1826.84300           0         1                 0                 0                 0                 1          1           0\n",
      "13  56.0  39.820       0.0  11090.71780           1         0                 0                 0                 1                 0          1           0\n",
      "14  27.0  42.130       0.0  39611.75770           0         1                 0                 0                 1                 0          0           1\n",
      "15  19.0  24.600       1.0   1837.23700           0         1                 0                 0                 0                 1          1           0\n",
      "16  52.0  30.780       1.0  10797.33620           1         0                 1                 0                 0                 0          1           0\n",
      "17  23.0  23.845       0.0   2395.17155           0         1                 1                 0                 0                 0          1           0\n",
      "18  56.0  40.300       0.0  10602.38500           0         1                 0                 0                 0                 1          1           0\n",
      "19  30.0  35.300       0.0  36837.46700           0         1                 0                 0                 0                 1          0           1\n",
      "\n",
      "[Showing only the first 20 rows x 12 columns]\n",
      "\n"
     ]
    }
   ],
   "source": [
    "#Conversion de variables categoricas a variables numericas en columnas dummy\n",
    "dfpDataset = pd.get_dummies(dfpRaw, columns = [\n",
    "  \"sex\",\n",
    "  \"region\",\n",
    "  \"smoker\"\n",
    "])\n",
    "\n",
    "#Verificamos\n",
    "dfpDataset"
   ]
  },
  {
   "cell_type": "markdown",
   "metadata": {},
   "source": [
    "### Conversion de Dataframe Pandas a Spark"
   ]
  },
  {
   "cell_type": "markdown",
   "metadata": {},
   "source": [
    "<div style=\"background-color: #f0f8ff; padding: 10px;\">\n",
    "\n",
    "Convierte de nuevo el DataFrame Pandas a DataFrame Spark y visualiza que se haya hecho de forma correcta.\n",
    "</div>"
   ]
  },
  {
   "cell_type": "code",
   "execution_count": 13,
   "metadata": {},
   "outputs": [
    {
     "name": "stdout",
     "output_type": "stream",
     "text": [
      "Calculation started (calculation_id=c8c8a217-0512-e54c-1c55-2b42c6ad3512) in (session=a6c8a210-c3a9-418d-a131-318d3464bdcc). Checking calculation status...\n"
     ]
    },
    {
     "data": {
      "application/vnd.jupyter.widget-view+json": {
       "model_id": "423e560b11784386a37eb6cfe87ad16f",
       "version_major": 2,
       "version_minor": 0
      },
      "text/plain": [
       "Progress:   0%|          |elapsed time = 00:00s"
      ]
     },
     "metadata": {},
     "output_type": "display_data"
    },
    {
     "name": "stdout",
     "output_type": "stream",
     "text": [
      "Calculation completed.\n",
      "+----+------+--------+-----------+----------+--------+----------------+----------------+----------------+----------------+---------+----------+\n",
      "| age|   bmi|children|    charges|sex_female|sex_male|region_northeast|region_northwest|region_southeast|region_southwest|smoker_no|smoker_yes|\n",
      "+----+------+--------+-----------+----------+--------+----------------+----------------+----------------+----------------+---------+----------+\n",
      "|19.0|  27.9|     0.0|  16884.924|         1|       0|               0|               0|               0|               1|        0|         1|\n",
      "|18.0| 33.77|     1.0|  1725.5523|         0|       1|               0|               0|               1|               0|        1|         0|\n",
      "|28.0|  33.0|     3.0|   4449.462|         0|       1|               0|               0|               1|               0|        1|         0|\n",
      "|33.0|22.705|     0.0|21984.47061|         0|       1|               0|               1|               0|               0|        1|         0|\n",
      "|32.0| 28.88|     0.0|  3866.8552|         0|       1|               0|               1|               0|               0|        1|         0|\n",
      "|31.0| 25.74|     0.0|  3756.6216|         1|       0|               0|               0|               1|               0|        1|         0|\n",
      "|46.0| 33.44|     1.0|  8240.5896|         1|       0|               0|               0|               1|               0|        1|         0|\n",
      "|37.0| 27.74|     3.0|  7281.5056|         1|       0|               0|               1|               0|               0|        1|         0|\n",
      "|37.0| 29.83|     2.0|  6406.4107|         0|       1|               1|               0|               0|               0|        1|         0|\n",
      "|60.0| 25.84|     0.0|28923.13692|         1|       0|               0|               1|               0|               0|        1|         0|\n",
      "|25.0| 26.22|     0.0|  2721.3208|         0|       1|               1|               0|               0|               0|        1|         0|\n",
      "|62.0| 26.29|     0.0| 27808.7251|         1|       0|               0|               0|               1|               0|        0|         1|\n",
      "|23.0|  34.4|     0.0|   1826.843|         0|       1|               0|               0|               0|               1|        1|         0|\n",
      "|56.0| 39.82|     0.0| 11090.7178|         1|       0|               0|               0|               1|               0|        1|         0|\n",
      "|27.0| 42.13|     0.0| 39611.7577|         0|       1|               0|               0|               1|               0|        0|         1|\n",
      "|19.0|  24.6|     1.0|   1837.237|         0|       1|               0|               0|               0|               1|        1|         0|\n",
      "|52.0| 30.78|     1.0| 10797.3362|         1|       0|               1|               0|               0|               0|        1|         0|\n",
      "|23.0|23.845|     0.0| 2395.17155|         0|       1|               1|               0|               0|               0|        1|         0|\n",
      "|56.0|  40.3|     0.0|  10602.385|         0|       1|               0|               0|               0|               1|        1|         0|\n",
      "|30.0|  35.3|     0.0|  36837.467|         0|       1|               0|               0|               0|               1|        0|         1|\n",
      "+----+------+--------+-----------+----------+--------+----------------+----------------+----------------+----------------+---------+----------+\n",
      "only showing top 20 rows\n",
      "\n"
     ]
    }
   ],
   "source": [
    "#Convertimos el dataframe PANDAS a un dataframe SPARK\n",
    "dfDataset = dfpDataset.to_spark()\n",
    "\n",
    "#Verificamos\n",
    "dfDataset.show()"
   ]
  },
  {
   "cell_type": "markdown",
   "metadata": {},
   "source": [
    "### Orden de Columnas"
   ]
  },
  {
   "cell_type": "markdown",
   "metadata": {},
   "source": [
    "<div style=\"background-color: #f0f8ff; padding: 10px;\">\n",
    "\n",
    "Observa que la primera columna es la edad `\"age\"`. Es necesario reordenar las columnas colocando la columna correspondiente a la variable objetivo `\"charges\"` en la primera posición. Esto dado que SageMaker requiere la variable objetivo en la primera posición. Esto se puede hacer con la función `select()` pasando como argumento el orden requerido para las columnas.\n",
    "</div>"
   ]
  },
  {
   "cell_type": "code",
   "execution_count": 14,
   "metadata": {},
   "outputs": [
    {
     "name": "stdout",
     "output_type": "stream",
     "text": [
      "Calculation started (calculation_id=f6c8a217-99bb-53fa-1735-c3c15b4f4e33) in (session=a6c8a210-c3a9-418d-a131-318d3464bdcc). Checking calculation status...\n"
     ]
    },
    {
     "data": {
      "application/vnd.jupyter.widget-view+json": {
       "model_id": "cccb66706b20495a93a0ad72a374950c",
       "version_major": 2,
       "version_minor": 0
      },
      "text/plain": [
       "Progress:   0%|          |elapsed time = 00:00s"
      ]
     },
     "metadata": {},
     "output_type": "display_data"
    },
    {
     "name": "stdout",
     "output_type": "stream",
     "text": [
      "Calculation completed.\n"
     ]
    }
   ],
   "source": [
    "#Colocamos hasta el final la columna LABEL\n",
    "dfDatasetOrdenado = dfDataset.select(\n",
    "    dfDataset[\"charges\"],\n",
    "    dfDataset[\"age\"],\n",
    "    dfDataset[\"bmi\"],\n",
    "    dfDataset[\"children\"],\n",
    "    dfDataset[\"sex_female\"],\n",
    "    dfDataset[\"sex_male\"],\n",
    "    dfDataset[\"region_northeast\"],\n",
    "    dfDataset[\"region_northwest\"],\n",
    "    dfDataset[\"region_southeast\"],\n",
    "    dfDataset[\"region_southwest\"],\n",
    "    dfDataset[\"smoker_no\"],\n",
    "    dfDataset[\"smoker_yes\"]\n",
    ")"
   ]
  },
  {
   "cell_type": "markdown",
   "metadata": {},
   "source": [
    "<div style=\"background-color: #f0f8ff; padding: 10px;\">\n",
    "\n",
    "Verifica que las columnas se han reordenado de forma correcta.\n",
    "</div>"
   ]
  },
  {
   "cell_type": "code",
   "execution_count": 15,
   "metadata": {},
   "outputs": [
    {
     "name": "stdout",
     "output_type": "stream",
     "text": [
      "Calculation started (calculation_id=76c8a217-bc55-698c-996c-0cbd2c60a9f4) in (session=a6c8a210-c3a9-418d-a131-318d3464bdcc). Checking calculation status...\n"
     ]
    },
    {
     "data": {
      "application/vnd.jupyter.widget-view+json": {
       "model_id": "74a3467c65dd4437b78dd5414f7c94a6",
       "version_major": 2,
       "version_minor": 0
      },
      "text/plain": [
       "Progress:   0%|          |elapsed time = 00:00s"
      ]
     },
     "metadata": {},
     "output_type": "display_data"
    },
    {
     "name": "stdout",
     "output_type": "stream",
     "text": [
      "Calculation completed.\n",
      "+-----------+----+------+--------+----------+--------+----------------+----------------+----------------+----------------+---------+----------+\n",
      "|    charges| age|   bmi|children|sex_female|sex_male|region_northeast|region_northwest|region_southeast|region_southwest|smoker_no|smoker_yes|\n",
      "+-----------+----+------+--------+----------+--------+----------------+----------------+----------------+----------------+---------+----------+\n",
      "|  16884.924|19.0|  27.9|     0.0|         1|       0|               0|               0|               0|               1|        0|         1|\n",
      "|  1725.5523|18.0| 33.77|     1.0|         0|       1|               0|               0|               1|               0|        1|         0|\n",
      "|   4449.462|28.0|  33.0|     3.0|         0|       1|               0|               0|               1|               0|        1|         0|\n",
      "|21984.47061|33.0|22.705|     0.0|         0|       1|               0|               1|               0|               0|        1|         0|\n",
      "|  3866.8552|32.0| 28.88|     0.0|         0|       1|               0|               1|               0|               0|        1|         0|\n",
      "|  3756.6216|31.0| 25.74|     0.0|         1|       0|               0|               0|               1|               0|        1|         0|\n",
      "|  8240.5896|46.0| 33.44|     1.0|         1|       0|               0|               0|               1|               0|        1|         0|\n",
      "|  7281.5056|37.0| 27.74|     3.0|         1|       0|               0|               1|               0|               0|        1|         0|\n",
      "|  6406.4107|37.0| 29.83|     2.0|         0|       1|               1|               0|               0|               0|        1|         0|\n",
      "|28923.13692|60.0| 25.84|     0.0|         1|       0|               0|               1|               0|               0|        1|         0|\n",
      "|  2721.3208|25.0| 26.22|     0.0|         0|       1|               1|               0|               0|               0|        1|         0|\n",
      "| 27808.7251|62.0| 26.29|     0.0|         1|       0|               0|               0|               1|               0|        0|         1|\n",
      "|   1826.843|23.0|  34.4|     0.0|         0|       1|               0|               0|               0|               1|        1|         0|\n",
      "| 11090.7178|56.0| 39.82|     0.0|         1|       0|               0|               0|               1|               0|        1|         0|\n",
      "| 39611.7577|27.0| 42.13|     0.0|         0|       1|               0|               0|               1|               0|        0|         1|\n",
      "|   1837.237|19.0|  24.6|     1.0|         0|       1|               0|               0|               0|               1|        1|         0|\n",
      "| 10797.3362|52.0| 30.78|     1.0|         1|       0|               1|               0|               0|               0|        1|         0|\n",
      "| 2395.17155|23.0|23.845|     0.0|         0|       1|               1|               0|               0|               0|        1|         0|\n",
      "|  10602.385|56.0|  40.3|     0.0|         0|       1|               0|               0|               0|               1|        1|         0|\n",
      "|  36837.467|30.0|  35.3|     0.0|         0|       1|               0|               0|               0|               1|        0|         1|\n",
      "+-----------+----+------+--------+----------+--------+----------------+----------------+----------------+----------------+---------+----------+\n",
      "only showing top 20 rows\n",
      "\n"
     ]
    }
   ],
   "source": [
    "#Verificamos\n",
    "dfDatasetOrdenado.show()"
   ]
  },
  {
   "cell_type": "markdown",
   "metadata": {},
   "source": [
    "### Division de datos para entrenar y validar"
   ]
  },
  {
   "cell_type": "markdown",
   "metadata": {},
   "source": [
    "<div style=\"background-color: #f0f8ff; padding: 10px;\">\n",
    "\n",
    "Para hacer la división en conjunto de entrenamiento y validadción, usas la función `randomSplit()` en Spark el cual recibe una lista con los porcentajes de datos para entrenamiento y para validación. Este corte se hace de manera aleatoria. Esta función devuelve dos variables que por estándar se llaman `dfTrain` y `dfTest`.\n",
    "</div>"
   ]
  },
  {
   "cell_type": "code",
   "execution_count": 16,
   "metadata": {},
   "outputs": [
    {
     "name": "stdout",
     "output_type": "stream",
     "text": [
      "Calculation started (calculation_id=eac8a218-0891-81c0-afd4-8542fedf1006) in (session=a6c8a210-c3a9-418d-a131-318d3464bdcc). Checking calculation status...\n"
     ]
    },
    {
     "data": {
      "application/vnd.jupyter.widget-view+json": {
       "model_id": "1575b8fdeaf541d9ab580bd860cf1272",
       "version_major": 2,
       "version_minor": 0
      },
      "text/plain": [
       "Progress:   0%|          |elapsed time = 00:00s"
      ]
     },
     "metadata": {},
     "output_type": "display_data"
    },
    {
     "name": "stdout",
     "output_type": "stream",
     "text": [
      "Calculation completed.\n"
     ]
    }
   ],
   "source": [
    "#Division en datos para entrenar y validar\n",
    "dfTrain, dfTest = dfDatasetOrdenado.randomSplit([0.8, 0.2])"
   ]
  },
  {
   "cell_type": "markdown",
   "metadata": {},
   "source": [
    "<div style=\"background-color: #f0f8ff; padding: 10px;\">\n",
    "\n",
    "Verifica la cantidad de registros que hay en cada DataFrame `dfTrain` y `dfTest`. Un DataFrame de Spark posee la función `count()` la cual te permite contar la cantidad de registros que posee el DataFrame.\n",
    "</div>"
   ]
  },
  {
   "cell_type": "code",
   "execution_count": 19,
   "metadata": {},
   "outputs": [
    {
     "name": "stdout",
     "output_type": "stream",
     "text": [
      "Calculation started (calculation_id=f2c8a219-0f3c-e02a-db80-1838de9ee7ee) in (session=a6c8a210-c3a9-418d-a131-318d3464bdcc). Checking calculation status...\n"
     ]
    },
    {
     "data": {
      "application/vnd.jupyter.widget-view+json": {
       "model_id": "bc050bfe984d4f81be84d8a40460e10b",
       "version_major": 2,
       "version_minor": 0
      },
      "text/plain": [
       "Progress:   0%|          |elapsed time = 00:00s"
      ]
     },
     "metadata": {},
     "output_type": "display_data"
    },
    {
     "name": "stdout",
     "output_type": "stream",
     "text": [
      "Calculation completed.\n",
      "1079\n",
      "\n"
     ]
    }
   ],
   "source": [
    "#Verificamos la cantidad de registros para entrenar\n",
    "cantidadDeRegistrosTrain = dfTrain.count()\n",
    "\n",
    "#Verificamos\n",
    "print(cantidadDeRegistrosTrain)"
   ]
  },
  {
   "cell_type": "code",
   "execution_count": 20,
   "metadata": {},
   "outputs": [
    {
     "name": "stdout",
     "output_type": "stream",
     "text": [
      "Calculation started (calculation_id=74c8a219-2157-28ff-53a6-80edbf3ebdde) in (session=a6c8a210-c3a9-418d-a131-318d3464bdcc). Checking calculation status...\n"
     ]
    },
    {
     "data": {
      "application/vnd.jupyter.widget-view+json": {
       "model_id": "a5bfe11b6430449ab26d47b9b5c2f757",
       "version_major": 2,
       "version_minor": 0
      },
      "text/plain": [
       "Progress:   0%|          |elapsed time = 00:00s"
      ]
     },
     "metadata": {},
     "output_type": "display_data"
    },
    {
     "name": "stdout",
     "output_type": "stream",
     "text": [
      "Calculation completed.\n",
      "259\n",
      "\n"
     ]
    }
   ],
   "source": [
    "#Verificamos la cantidad de registros para validar\n",
    "cantidadDeRegistrosTest = dfTest.count()\n",
    "\n",
    "#Verificamos\n",
    "print(cantidadDeRegistrosTest)"
   ]
  },
  {
   "cell_type": "markdown",
   "metadata": {},
   "source": [
    "### Almacenamiento de dataframes"
   ]
  },
  {
   "cell_type": "markdown",
   "metadata": {},
   "source": [
    "<div style=\"background-color: #f0f8ff; padding: 10px;\">\n",
    "\n",
    "Es recomendable que además de guardar los DataFrames de entrenamiento y de test, guardes el DataFrame completo. La partición en conjuntos de entrenamiento y test es una manera introductoria de evaluar tu modelo final sin embargo, lo que se usa en las empresas es la validación cruzada e hiperparametrización que se realiza sobre el DataFrame completo.\n",
    "</div>"
   ]
  },
  {
   "cell_type": "code",
   "execution_count": 21,
   "metadata": {},
   "outputs": [
    {
     "name": "stdout",
     "output_type": "stream",
     "text": [
      "Calculation started (calculation_id=a4c8a219-be92-4e42-4f43-9152da237107) in (session=a6c8a210-c3a9-418d-a131-318d3464bdcc). Checking calculation status...\n"
     ]
    },
    {
     "data": {
      "application/vnd.jupyter.widget-view+json": {
       "model_id": "d4cb34fd65be49db818f815d4cfba5f8",
       "version_major": 2,
       "version_minor": 0
      },
      "text/plain": [
       "Progress:   0%|          |elapsed time = 00:00s"
      ]
     },
     "metadata": {},
     "output_type": "display_data"
    },
    {
     "name": "stdout",
     "output_type": "stream",
     "text": [
      "Calculation completed.\n"
     ]
    }
   ],
   "source": [
    "#Almacenamos el dataframe que tiene el 100% de registros\n",
    "dfDatasetOrdenado.write.format(\"csv\").option(\"header\", \"false\").option(\"delimiter\", \",\").option(\"encoding\", \"ISO-8859-1\").mode(\"overwrite\").save(rutaArchivoDataset)"
   ]
  },
  {
   "cell_type": "code",
   "execution_count": 22,
   "metadata": {},
   "outputs": [
    {
     "name": "stdout",
     "output_type": "stream",
     "text": [
      "Calculation started (calculation_id=58c8a219-d8b4-6613-74e8-fd1cea4735e2) in (session=a6c8a210-c3a9-418d-a131-318d3464bdcc). Checking calculation status...\n"
     ]
    },
    {
     "data": {
      "application/vnd.jupyter.widget-view+json": {
       "model_id": "e7528e74f0e2422dab7416a4ddc30294",
       "version_major": 2,
       "version_minor": 0
      },
      "text/plain": [
       "Progress:   0%|          |elapsed time = 00:00s"
      ]
     },
     "metadata": {},
     "output_type": "display_data"
    },
    {
     "name": "stdout",
     "output_type": "stream",
     "text": [
      "Calculation completed.\n"
     ]
    }
   ],
   "source": [
    "#Almacenamos el dataframe de entrenamiento\n",
    "dfTrain.write.format(\"csv\").option(\"header\", \"false\").option(\"delimiter\", \",\").option(\"encoding\", \"ISO-8859-1\").mode(\"overwrite\").save(rutaArchivoDatasetTrain)"
   ]
  },
  {
   "cell_type": "code",
   "execution_count": 23,
   "metadata": {},
   "outputs": [
    {
     "name": "stdout",
     "output_type": "stream",
     "text": [
      "Calculation started (calculation_id=dec8a219-f056-597d-6b39-b689bb47cc42) in (session=a6c8a210-c3a9-418d-a131-318d3464bdcc). Checking calculation status...\n"
     ]
    },
    {
     "data": {
      "application/vnd.jupyter.widget-view+json": {
       "model_id": "dc67df2b43db49b7ae124f4607e5914f",
       "version_major": 2,
       "version_minor": 0
      },
      "text/plain": [
       "Progress:   0%|          |elapsed time = 00:00s"
      ]
     },
     "metadata": {},
     "output_type": "display_data"
    },
    {
     "name": "stdout",
     "output_type": "stream",
     "text": [
      "Calculation completed.\n"
     ]
    }
   ],
   "source": [
    "#Almacenamos el dataframe de validacion\n",
    "dfTest.write.format(\"csv\").option(\"header\", \"false\").option(\"delimiter\", \",\").option(\"encoding\", \"ISO-8859-1\").mode(\"overwrite\").save(rutaArchivoDatasetTest)"
   ]
  },
  {
   "cell_type": "markdown",
   "metadata": {},
   "source": [
    "<div style=\"background-color: #f0f8ff; padding: 10px;\">\n",
    "\n",
    "Dirígete al servicio de S3 y verifica que los DataFrames se han guardado de manera exitosa en las carpetas destinadas para cada uno.\n",
    "</div>"
   ]
  },
  {
   "cell_type": "markdown",
   "metadata": {},
   "source": [
    "### Eliminacion de archivo \"_SUCCESS\""
   ]
  },
  {
   "cell_type": "markdown",
   "metadata": {},
   "source": [
    "<div style=\"background-color: #f0f8ff; padding: 10px;\">\n",
    "\n",
    "Cada directorio donde almacenaste los DataFrames poseen un archivo `_SUCCESS` que debe ser eliminado. Esto lo puedes hacer usando la librería `boto3`.\n",
    "</div>"
   ]
  },
  {
   "cell_type": "code",
   "execution_count": 24,
   "metadata": {},
   "outputs": [
    {
     "name": "stdout",
     "output_type": "stream",
     "text": [
      "Calculation started (calculation_id=c8c8a21a-490f-85cb-d029-fc4606da919a) in (session=a6c8a210-c3a9-418d-a131-318d3464bdcc). Checking calculation status...\n"
     ]
    },
    {
     "data": {
      "application/vnd.jupyter.widget-view+json": {
       "model_id": "a9a3247fbbf04e098857fa3b6a3766f0",
       "version_major": 2,
       "version_minor": 0
      },
      "text/plain": [
       "Progress:   0%|          |elapsed time = 00:00s"
      ]
     },
     "metadata": {},
     "output_type": "display_data"
    },
    {
     "name": "stdout",
     "output_type": "stream",
     "text": [
      "Calculation completed.\n"
     ]
    }
   ],
   "source": [
    "#Nos conectamos al servicio de \"S3\"\n",
    "s3 = boto3.client(\"s3\")"
   ]
  },
  {
   "cell_type": "code",
   "execution_count": 25,
   "metadata": {},
   "outputs": [
    {
     "name": "stdout",
     "output_type": "stream",
     "text": [
      "Calculation started (calculation_id=a6c8a21a-7ff5-0375-f23e-432ed8cd3f85) in (session=a6c8a210-c3a9-418d-a131-318d3464bdcc). Checking calculation status...\n"
     ]
    },
    {
     "data": {
      "application/vnd.jupyter.widget-view+json": {
       "model_id": "426bf4c4b1704155b892288078934616",
       "version_major": 2,
       "version_minor": 0
      },
      "text/plain": [
       "Progress:   0%|          |elapsed time = 00:00s"
      ]
     },
     "metadata": {},
     "output_type": "display_data"
    },
    {
     "name": "stdout",
     "output_type": "stream",
     "text": [
      "Calculation completed.\n",
      "{'ResponseMetadata': {'RequestId': '0CKR547ZDCQ1VT15', 'HostId': 'AVSSOfugZH0c1o+mn9U1Pc1bGv4xzdebT85+EmZnCFawIeQ7fIRQTvHJLVc56z9S6/Xsa5zh60M=', 'HTTPStatusCode': 204, 'HTTPHeaders': {'x-amz-id-2': 'AVSSOfugZH0c1o+mn9U1Pc1bGv4xzdebT85+EmZnCFawIeQ7fIRQTvHJLVc56z9S6/Xsa5zh60M=', 'x-amz-request-id': '0CKR547ZDCQ1VT15', 'date': 'Mon, 12 Aug 2024 01:30:10 GMT', 'server': 'AmazonS3'}, 'RetryAttempts': 0}}\n",
      "\n"
     ]
    }
   ],
   "source": [
    "#Eliminamos el archivo \"_SUCCESS\" del dataset en donde se encuentran el 100% de registros\n",
    "s3.delete_object(\n",
    "    Bucket = bucket,\n",
    "    Key = f\"{rutaDeArchivo}_dataset/_SUCCESS\"\n",
    ")"
   ]
  },
  {
   "cell_type": "code",
   "execution_count": 26,
   "metadata": {},
   "outputs": [
    {
     "name": "stdout",
     "output_type": "stream",
     "text": [
      "Calculation started (calculation_id=6cc8a21a-9424-393b-710e-122f34ca0f21) in (session=a6c8a210-c3a9-418d-a131-318d3464bdcc). Checking calculation status...\n"
     ]
    },
    {
     "data": {
      "application/vnd.jupyter.widget-view+json": {
       "model_id": "b4a98c0d3f0d447b805d30e72178ef75",
       "version_major": 2,
       "version_minor": 0
      },
      "text/plain": [
       "Progress:   0%|          |elapsed time = 00:00s"
      ]
     },
     "metadata": {},
     "output_type": "display_data"
    },
    {
     "name": "stdout",
     "output_type": "stream",
     "text": [
      "Calculation completed.\n",
      "{'ResponseMetadata': {'RequestId': '8E4802W256C48NDB', 'HostId': 'OFKlYL6OEyQHoAqCZYgPsPWmCrSzuxkgOyWwpHv1aYHjwjfKaw4HKzRGfornT8l37CJSk1BbEuU=', 'HTTPStatusCode': 204, 'HTTPHeaders': {'x-amz-id-2': 'OFKlYL6OEyQHoAqCZYgPsPWmCrSzuxkgOyWwpHv1aYHjwjfKaw4HKzRGfornT8l37CJSk1BbEuU=', 'x-amz-request-id': '8E4802W256C48NDB', 'date': 'Mon, 12 Aug 2024 01:30:21 GMT', 'server': 'AmazonS3'}, 'RetryAttempts': 0}}\n",
      "\n"
     ]
    }
   ],
   "source": [
    "#Eliminamos el archivo \"_SUCCESS\" del dataset de entrenamiento\n",
    "s3.delete_object(\n",
    "    Bucket = bucket,\n",
    "    Key = f\"{rutaDeArchivo}_train/_SUCCESS\"\n",
    ")"
   ]
  },
  {
   "cell_type": "code",
   "execution_count": 27,
   "metadata": {},
   "outputs": [
    {
     "name": "stdout",
     "output_type": "stream",
     "text": [
      "Calculation started (calculation_id=1ec8a21a-b378-a871-8ab5-5cc51dbd1c9c) in (session=a6c8a210-c3a9-418d-a131-318d3464bdcc). Checking calculation status...\n"
     ]
    },
    {
     "data": {
      "application/vnd.jupyter.widget-view+json": {
       "model_id": "72ab402b387745c5bf11d002d295238d",
       "version_major": 2,
       "version_minor": 0
      },
      "text/plain": [
       "Progress:   0%|          |elapsed time = 00:00s"
      ]
     },
     "metadata": {},
     "output_type": "display_data"
    },
    {
     "name": "stdout",
     "output_type": "stream",
     "text": [
      "Calculation completed.\n",
      "{'ResponseMetadata': {'RequestId': 'VBKGGVNRZR1BBVYR', 'HostId': 'Hlx/6rHR8XlsK7/CKGJMxMHFHwiV3fUijfmxwNhuMZEySBcl09n/ZilFJobIjXfF2/0iwHWQSSGxMdtGNvedcdbIcybDv++bUXlAQZDnckw=', 'HTTPStatusCode': 204, 'HTTPHeaders': {'x-amz-id-2': 'Hlx/6rHR8XlsK7/CKGJMxMHFHwiV3fUijfmxwNhuMZEySBcl09n/ZilFJobIjXfF2/0iwHWQSSGxMdtGNvedcdbIcybDv++bUXlAQZDnckw=', 'x-amz-request-id': 'VBKGGVNRZR1BBVYR', 'date': 'Mon, 12 Aug 2024 01:30:37 GMT', 'server': 'AmazonS3'}, 'RetryAttempts': 0}}\n",
      "\n"
     ]
    }
   ],
   "source": [
    "#Eliminamos el archivo \"_SUCCESS\" del dataset de validacion\n",
    "s3.delete_object(\n",
    "    Bucket = bucket,\n",
    "    Key = f\"{rutaDeArchivo}_test/_SUCCESS\"\n",
    ")"
   ]
  },
  {
   "cell_type": "markdown",
   "metadata": {},
   "source": [
    "<div style=\"background-color: #f0f8ff; padding: 10px;\">\n",
    "\n",
    "Con esta preparación de los datos ya puedes crear un modelo de regresión lineal simple en SageMaker o inclusive un modelo más avanzado de redes neuronales. Por otro lado, si estuvieras en un modelo de predicción categórica, la preparación de los datos es diferente. Depende de 4 cosas. Estás haciendo predicción numérica o categórica. El modelo que usas se basa en ecuaciones o en tablas estadísticas. Entonces tienes 4 posibles combinaciones para la preparación de los datos.  \n",
    "</div>"
   ]
  }
 ],
 "metadata": {
  "kernelspec": {
   "display_name": "Python 3 (ipykernel)",
   "language": "python",
   "name": "python3"
  },
  "language_info": {
   "codemirror_mode": {
    "name": "ipython",
    "version": 3
   },
   "file_extension": ".py",
   "mimetype": "text/x-python",
   "name": "python",
   "nbconvert_exporter": "python",
   "pygments_lexer": "ipython3",
   "version": "3.9.19"
  }
 },
 "nbformat": 4,
 "nbformat_minor": 4
}
